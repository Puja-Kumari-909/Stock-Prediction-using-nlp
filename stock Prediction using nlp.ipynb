{
 "cells": [
  {
   "cell_type": "code",
   "execution_count": 13,
   "id": "e06aa0f9",
   "metadata": {},
   "outputs": [],
   "source": [
    "import pandas as pd\n",
    "import numpy as np\n",
    "import seaborn as sns\n",
    "import matplotlib.pyplot as plt"
   ]
  },
  {
   "cell_type": "code",
   "execution_count": 2,
   "id": "1c4766ae",
   "metadata": {},
   "outputs": [],
   "source": [
    "data = pd.read_csv('stock_data.csv')"
   ]
  },
  {
   "cell_type": "code",
   "execution_count": 4,
   "id": "8e805826",
   "metadata": {},
   "outputs": [
    {
     "data": {
      "text/html": [
       "<div>\n",
       "<style scoped>\n",
       "    .dataframe tbody tr th:only-of-type {\n",
       "        vertical-align: middle;\n",
       "    }\n",
       "\n",
       "    .dataframe tbody tr th {\n",
       "        vertical-align: top;\n",
       "    }\n",
       "\n",
       "    .dataframe thead th {\n",
       "        text-align: right;\n",
       "    }\n",
       "</style>\n",
       "<table border=\"1\" class=\"dataframe\">\n",
       "  <thead>\n",
       "    <tr style=\"text-align: right;\">\n",
       "      <th></th>\n",
       "      <th>Text</th>\n",
       "      <th>Sentiment</th>\n",
       "    </tr>\n",
       "  </thead>\n",
       "  <tbody>\n",
       "    <tr>\n",
       "      <th>0</th>\n",
       "      <td>Kickers on my watchlist XIDE TIT SOQ PNK CPW B...</td>\n",
       "      <td>1</td>\n",
       "    </tr>\n",
       "    <tr>\n",
       "      <th>1</th>\n",
       "      <td>user: AAP MOVIE. 55% return for the FEA/GEED i...</td>\n",
       "      <td>1</td>\n",
       "    </tr>\n",
       "    <tr>\n",
       "      <th>2</th>\n",
       "      <td>user I'd be afraid to short AMZN - they are lo...</td>\n",
       "      <td>1</td>\n",
       "    </tr>\n",
       "    <tr>\n",
       "      <th>3</th>\n",
       "      <td>MNTA Over 12.00</td>\n",
       "      <td>1</td>\n",
       "    </tr>\n",
       "    <tr>\n",
       "      <th>4</th>\n",
       "      <td>OI  Over 21.37</td>\n",
       "      <td>1</td>\n",
       "    </tr>\n",
       "    <tr>\n",
       "      <th>5</th>\n",
       "      <td>PGNX  Over 3.04</td>\n",
       "      <td>1</td>\n",
       "    </tr>\n",
       "    <tr>\n",
       "      <th>6</th>\n",
       "      <td>AAP - user if so then the current downtrend wi...</td>\n",
       "      <td>-1</td>\n",
       "    </tr>\n",
       "    <tr>\n",
       "      <th>7</th>\n",
       "      <td>Monday's relative weakness. NYX WIN TIE TAP IC...</td>\n",
       "      <td>-1</td>\n",
       "    </tr>\n",
       "    <tr>\n",
       "      <th>8</th>\n",
       "      <td>GOOG - ower trend line channel test &amp; volume s...</td>\n",
       "      <td>1</td>\n",
       "    </tr>\n",
       "    <tr>\n",
       "      <th>9</th>\n",
       "      <td>AAP will watch tomorrow for ONG entry.</td>\n",
       "      <td>1</td>\n",
       "    </tr>\n",
       "  </tbody>\n",
       "</table>\n",
       "</div>"
      ],
      "text/plain": [
       "                                                Text  Sentiment\n",
       "0  Kickers on my watchlist XIDE TIT SOQ PNK CPW B...          1\n",
       "1  user: AAP MOVIE. 55% return for the FEA/GEED i...          1\n",
       "2  user I'd be afraid to short AMZN - they are lo...          1\n",
       "3                                  MNTA Over 12.00            1\n",
       "4                                   OI  Over 21.37            1\n",
       "5                                  PGNX  Over 3.04            1\n",
       "6  AAP - user if so then the current downtrend wi...         -1\n",
       "7  Monday's relative weakness. NYX WIN TIE TAP IC...         -1\n",
       "8  GOOG - ower trend line channel test & volume s...          1\n",
       "9             AAP will watch tomorrow for ONG entry.          1"
      ]
     },
     "execution_count": 4,
     "metadata": {},
     "output_type": "execute_result"
    }
   ],
   "source": [
    "data.head(10)"
   ]
  },
  {
   "cell_type": "code",
   "execution_count": 6,
   "id": "6fd8ff08",
   "metadata": {},
   "outputs": [
    {
     "data": {
      "text/plain": [
       "(5791, 2)"
      ]
     },
     "execution_count": 6,
     "metadata": {},
     "output_type": "execute_result"
    }
   ],
   "source": [
    "data.shape"
   ]
  },
  {
   "cell_type": "code",
   "execution_count": 8,
   "id": "c792b947",
   "metadata": {},
   "outputs": [
    {
     "name": "stdout",
     "output_type": "stream",
     "text": [
      "<class 'pandas.core.frame.DataFrame'>\n",
      "RangeIndex: 5791 entries, 0 to 5790\n",
      "Data columns (total 2 columns):\n",
      " #   Column     Non-Null Count  Dtype \n",
      "---  ------     --------------  ----- \n",
      " 0   Text       5791 non-null   object\n",
      " 1   Sentiment  5791 non-null   int64 \n",
      "dtypes: int64(1), object(1)\n",
      "memory usage: 90.6+ KB\n"
     ]
    }
   ],
   "source": [
    "data.info()"
   ]
  },
  {
   "cell_type": "code",
   "execution_count": 10,
   "id": "b56aaed2",
   "metadata": {},
   "outputs": [
    {
     "data": {
      "text/html": [
       "<div>\n",
       "<style scoped>\n",
       "    .dataframe tbody tr th:only-of-type {\n",
       "        vertical-align: middle;\n",
       "    }\n",
       "\n",
       "    .dataframe tbody tr th {\n",
       "        vertical-align: top;\n",
       "    }\n",
       "\n",
       "    .dataframe thead th {\n",
       "        text-align: right;\n",
       "    }\n",
       "</style>\n",
       "<table border=\"1\" class=\"dataframe\">\n",
       "  <thead>\n",
       "    <tr style=\"text-align: right;\">\n",
       "      <th></th>\n",
       "      <th>Sentiment</th>\n",
       "    </tr>\n",
       "  </thead>\n",
       "  <tbody>\n",
       "    <tr>\n",
       "      <th>count</th>\n",
       "      <td>5791.000000</td>\n",
       "    </tr>\n",
       "    <tr>\n",
       "      <th>mean</th>\n",
       "      <td>0.272664</td>\n",
       "    </tr>\n",
       "    <tr>\n",
       "      <th>std</th>\n",
       "      <td>0.962192</td>\n",
       "    </tr>\n",
       "    <tr>\n",
       "      <th>min</th>\n",
       "      <td>-1.000000</td>\n",
       "    </tr>\n",
       "    <tr>\n",
       "      <th>25%</th>\n",
       "      <td>-1.000000</td>\n",
       "    </tr>\n",
       "    <tr>\n",
       "      <th>50%</th>\n",
       "      <td>1.000000</td>\n",
       "    </tr>\n",
       "    <tr>\n",
       "      <th>75%</th>\n",
       "      <td>1.000000</td>\n",
       "    </tr>\n",
       "    <tr>\n",
       "      <th>max</th>\n",
       "      <td>1.000000</td>\n",
       "    </tr>\n",
       "  </tbody>\n",
       "</table>\n",
       "</div>"
      ],
      "text/plain": [
       "         Sentiment\n",
       "count  5791.000000\n",
       "mean      0.272664\n",
       "std       0.962192\n",
       "min      -1.000000\n",
       "25%      -1.000000\n",
       "50%       1.000000\n",
       "75%       1.000000\n",
       "max       1.000000"
      ]
     },
     "execution_count": 10,
     "metadata": {},
     "output_type": "execute_result"
    }
   ],
   "source": [
    "data.describe()"
   ]
  },
  {
   "cell_type": "code",
   "execution_count": 12,
   "id": "27af1ddb",
   "metadata": {},
   "outputs": [
    {
     "data": {
      "text/plain": [
       " 1    3685\n",
       "-1    2106\n",
       "Name: Sentiment, dtype: int64"
      ]
     },
     "execution_count": 12,
     "metadata": {},
     "output_type": "execute_result"
    }
   ],
   "source": [
    "#sentiment value count\n",
    "data['Sentiment'].value_counts()"
   ]
  },
  {
   "cell_type": "code",
   "execution_count": 14,
   "id": "996823fe",
   "metadata": {},
   "outputs": [
    {
     "name": "stderr",
     "output_type": "stream",
     "text": [
      "E:\\Software\\lib\\site-packages\\seaborn\\_decorators.py:36: FutureWarning: Pass the following variable as a keyword arg: x. From version 0.12, the only valid positional argument will be `data`, and passing other arguments without an explicit keyword will result in an error or misinterpretation.\n",
      "  warnings.warn(\n"
     ]
    },
    {
     "data": {
      "text/plain": [
       "<AxesSubplot:xlabel='Sentiment', ylabel='count'>"
      ]
     },
     "execution_count": 14,
     "metadata": {},
     "output_type": "execute_result"
    },
    {
     "data": {
      "image/png": "[encoded data removed]",
      "text/plain": [
       "<Figure size 432x288 with 1 Axes>"
      ]
     },
     "metadata": {
      "needs_background": "light"
     },
     "output_type": "display_data"
    }
   ],
   "source": [
    "#plotting the sentiment value count\n",
    "sns.countplot(data['Sentiment'])"
   ]
  },
  {
   "cell_type": "code",
   "execution_count": 15,
   "id": "1b5c4317",
   "metadata": {},
   "outputs": [
    {
     "data": {
      "text/plain": [
       "<AxesSubplot:xlabel='Text', ylabel='Density'>"
      ]
     },
     "execution_count": 15,
     "metadata": {},
     "output_type": "execute_result"
    },
    {
     "data": {
      "image/png": "[encoded data removed]",
      "text/plain": [
       "<Figure size 432x288 with 1 Axes>"
      ]
     },
     "metadata": {
      "needs_background": "light"
     },
     "output_type": "display_data"
    }
   ],
   "source": [
    "#loength of the text using KDEplot\n",
    "length = data[\"Text\"].str.len()\n",
    "sns.kdeplot(length)"
   ]
  },
  {
   "cell_type": "code",
   "execution_count": 16,
   "id": "c4ea48ba",
   "metadata": {},
   "outputs": [
    {
     "name": "stderr",
     "output_type": "stream",
     "text": [
      "[nltk_data] Downloading package wordnet to\n",
      "[nltk_data]     C:\\Users\\Puja\\AppData\\Roaming\\nltk_data...\n",
      "[nltk_data]   Unzipping corpora\\wordnet.zip.\n"
     ]
    },
    {
     "data": {
      "text/plain": [
       "True"
      ]
     },
     "execution_count": 16,
     "metadata": {},
     "output_type": "execute_result"
    }
   ],
   "source": [
    "import nltk\n",
    "import re\n",
    "from nltk.stem.porter import PorterStemmer\n",
    "from nltk import word_tokenize, WordNetLemmatizer\n",
    "nltk.download('wordnet')"
   ]
  },
  {
   "cell_type": "code",
   "execution_count": 18,
   "id": "ed0fd534",
   "metadata": {},
   "outputs": [
    {
     "name": "stderr",
     "output_type": "stream",
     "text": [
      "[nltk_data] Downloading package stopwords to\n",
      "[nltk_data]     C:\\Users\\Puja\\AppData\\Roaming\\nltk_data...\n"
     ]
    },
    {
     "name": "stdout",
     "output_type": "stream",
     "text": [
      "{'few', 'too', 'our', 'been', 'them', 'being', 'any', \"you're\", \"it's\", 'did', 'have', 'were', 'such', 'only', 'between', 'shouldn', 'itself', 'whom', \"didn't\", 'once', 'if', \"won't\", 'does', 'you', 'where', 'herself', 'because', 'ours', 'shan', 'there', 'off', \"hadn't\", \"you'd\", 'through', 'about', \"shouldn't\", 'hasn', 've', 'by', 'o', 'here', 'having', 'until', 'all', 'it', 'an', 'into', 'yourself', 'ma', 'then', 'the', 'this', 'doing', 'can', 'while', 'doesn', 'my', 'mustn', 'wouldn', \"weren't\", 'other', 'him', 'as', 'she', 'i', 's', 'himself', 'ain', 'has', \"you'll\", 'under', \"needn't\", \"you've\", 'will', \"mightn't\", 'your', 'which', 'am', 're', \"wasn't\", \"don't\", 'was', 'ourselves', 'weren', 'that', 'just', \"mustn't\", 'be', \"that'll\", 'from', 'no', 'below', 'down', 'and', 'when', 'on', 'against', 'very', 'm', 'to', 'after', 't', 'wasn', \"wouldn't\", 'aren', 'should', 'above', \"couldn't\", 'won', 'y', 'more', 'are', 'own', \"haven't\", 'over', 'needn', 'me', 'didn', 'isn', 'mightn', 'll', 'her', \"isn't\", 'not', 'both', 'those', \"doesn't\", 'its', 'these', 'hadn', 'he', 'before', 'had', 'up', 'most', 'couldn', 'during', 'yours', \"hasn't\", 'why', 'haven', 'or', 'with', 'each', 'some', 'myself', 'nor', 'themselves', 'hers', 'we', 'who', 'a', 'do', 'their', 'theirs', 'again', 'same', 'now', 'of', 'what', 'in', 'at', 'than', 'd', \"she's\", 'don', 'but', \"aren't\", 'his', 'yourselves', 'is', 'out', 'how', 'further', \"shan't\", 'they', 'for', 'so', \"should've\"}\n"
     ]
    },
    {
     "name": "stderr",
     "output_type": "stream",
     "text": [
      "[nltk_data]   Unzipping corpora\\stopwords.zip.\n"
     ]
    }
   ],
   "source": [
    "#checking for stopwords\n",
    "nltk.download('stopwords')\n",
    "from nltk.corpus import stopwords\n",
    "stop_words = set(stopwords.words('English'))\n",
    "print(stop_words)"
   ]
  },
  {
   "cell_type": "code",
   "execution_count": 21,
   "id": "fc325422",
   "metadata": {},
   "outputs": [],
   "source": [
    "word_list = list()\n",
    "for i in range(len(data)):\n",
    "    lip = data.Text[i].split()\n",
    "    for k in lip:\n",
    "        word_list.append(k)"
   ]
  },
  {
   "cell_type": "code",
   "execution_count": 22,
   "id": "90b5e250",
   "metadata": {},
   "outputs": [
    {
     "data": {
      "text/plain": [
       "[('the', 1796),\n",
       " ('to', 1668),\n",
       " ('a', 1280),\n",
       " ('on', 1032),\n",
       " ('of', 944),\n",
       " ('in', 891),\n",
       " ('AAP', 884),\n",
       " ('for', 868),\n",
       " ('and', 850),\n",
       " ('is', 811),\n",
       " ('-', 728),\n",
       " ('at', 541),\n",
       " ('this', 461),\n",
       " ('it', 454),\n",
       " ('I', 453),\n",
       " ('up', 357),\n",
       " ('user:', 340),\n",
       " ('from', 331),\n",
       " ('will', 330),\n",
       " ('be', 324)]"
      ]
     },
     "execution_count": 22,
     "metadata": {},
     "output_type": "execute_result"
    }
   ],
   "source": [
    "from collections import Counter\n",
    "wordCounter = Counter(word_list)\n",
    "countedWordDict = dict(wordCounter)\n",
    "sortedWordDict = sorted(countedWordDict.items(),key = lambda x : x[1],reverse=True)\n",
    "sortedWordDict[0:20]"
   ]
  },
  {
   "cell_type": "markdown",
   "id": "d04b18e9",
   "metadata": {},
   "source": [
    "# Data Preprocesing"
   ]
  },
  {
   "cell_type": "code",
   "execution_count": 24,
   "id": "2b04e3a5",
   "metadata": {},
   "outputs": [],
   "source": [
    "#replace the value of -1 to 0 in the output column so that the model can predict well\n",
    "data['Sentiment'] = data['Sentiment'].replace(-1,0)\n"
   ]
  },
  {
   "cell_type": "code",
   "execution_count": 26,
   "id": "5942aeb4",
   "metadata": {},
   "outputs": [
    {
     "data": {
      "text/html": [
       "<div>\n",
       "<style scoped>\n",
       "    .dataframe tbody tr th:only-of-type {\n",
       "        vertical-align: middle;\n",
       "    }\n",
       "\n",
       "    .dataframe tbody tr th {\n",
       "        vertical-align: top;\n",
       "    }\n",
       "\n",
       "    .dataframe thead th {\n",
       "        text-align: right;\n",
       "    }\n",
       "</style>\n",
       "<table border=\"1\" class=\"dataframe\">\n",
       "  <thead>\n",
       "    <tr style=\"text-align: right;\">\n",
       "      <th></th>\n",
       "      <th>Text</th>\n",
       "      <th>Sentiment</th>\n",
       "    </tr>\n",
       "  </thead>\n",
       "  <tbody>\n",
       "    <tr>\n",
       "      <th>5786</th>\n",
       "      <td>Industry body CII said #discoms are likely to ...</td>\n",
       "      <td>0</td>\n",
       "    </tr>\n",
       "    <tr>\n",
       "      <th>5787</th>\n",
       "      <td>#Gold prices slip below Rs 46,000 as #investor...</td>\n",
       "      <td>0</td>\n",
       "    </tr>\n",
       "    <tr>\n",
       "      <th>5788</th>\n",
       "      <td>Workers at Bajaj Auto have agreed to a 10% wag...</td>\n",
       "      <td>1</td>\n",
       "    </tr>\n",
       "    <tr>\n",
       "      <th>5789</th>\n",
       "      <td>#Sharemarket LIVE: Sensex off day’s high, up 6...</td>\n",
       "      <td>1</td>\n",
       "    </tr>\n",
       "    <tr>\n",
       "      <th>5790</th>\n",
       "      <td>#Sensex, #Nifty climb off day's highs, still u...</td>\n",
       "      <td>1</td>\n",
       "    </tr>\n",
       "  </tbody>\n",
       "</table>\n",
       "</div>"
      ],
      "text/plain": [
       "                                                   Text  Sentiment\n",
       "5786  Industry body CII said #discoms are likely to ...          0\n",
       "5787  #Gold prices slip below Rs 46,000 as #investor...          0\n",
       "5788  Workers at Bajaj Auto have agreed to a 10% wag...          1\n",
       "5789  #Sharemarket LIVE: Sensex off day’s high, up 6...          1\n",
       "5790  #Sensex, #Nifty climb off day's highs, still u...          1"
      ]
     },
     "execution_count": 26,
     "metadata": {},
     "output_type": "execute_result"
    }
   ],
   "source": [
    "data.tail()"
   ]
  },
  {
   "cell_type": "code",
   "execution_count": 27,
   "id": "1ffdeedd",
   "metadata": {},
   "outputs": [
    {
     "data": {
      "text/plain": [
       "1    3685\n",
       "0    2106\n",
       "Name: Sentiment, dtype: int64"
      ]
     },
     "execution_count": 27,
     "metadata": {},
     "output_type": "execute_result"
    }
   ],
   "source": [
    "data['Sentiment'].value_counts()"
   ]
  },
  {
   "cell_type": "code",
   "execution_count": 29,
   "id": "aa4e2eab",
   "metadata": {},
   "outputs": [
    {
     "data": {
      "text/plain": [
       "(5791, 2)"
      ]
     },
     "execution_count": 29,
     "metadata": {},
     "output_type": "execute_result"
    }
   ],
   "source": [
    "data.shape"
   ]
  },
  {
   "cell_type": "markdown",
   "id": "49043eed",
   "metadata": {},
   "source": [
    "# NLP processing"
   ]
  },
  {
   "cell_type": "code",
   "execution_count": 34,
   "id": "5fffb8f2",
   "metadata": {},
   "outputs": [],
   "source": [
    "ps = PorterStemmer()\n",
    "lemma = WordNetLemmatizer()\n",
    "stopwordSet = set(stopwords.words('english'))"
   ]
  },
  {
   "cell_type": "code",
   "execution_count": 36,
   "id": "d4a65ff2",
   "metadata": {},
   "outputs": [
    {
     "name": "stderr",
     "output_type": "stream",
     "text": [
      "[nltk_data] Downloading package punkt to\n",
      "[nltk_data]     C:\\Users\\Puja\\AppData\\Roaming\\nltk_data...\n",
      "[nltk_data]   Package punkt is already up-to-date!\n"
     ]
    }
   ],
   "source": [
    "#cleaning the text \n",
    "nltk.download('punkt')\n",
    "text_reviews = list()\n",
    "for i in range(len(data)):\n",
    "    text = re.sub('[^a-zA-Z]', \" \", data['Text'][i])\n",
    "    text = text.lower()\n",
    "    text = word_tokenize(text,language=\"english\")\n",
    "    text = [lemma.lemmatize(word) for word in text if(word) not in stopwordSet]\n",
    "    text = \" \".join(text)\n",
    "    text_reviews.append(text)"
   ]
  },
  {
   "cell_type": "code",
   "execution_count": 37,
   "id": "203b2674",
   "metadata": {},
   "outputs": [],
   "source": [
    "from sklearn.feature_extraction.text import CountVectorizer\n",
    "from sklearn.metrics import confusion_matrix\n",
    "from sklearn.model_selection import train_test_split\n",
    "from sklearn.linear_model import LogisticRegression\n",
    "from sklearn.naive_bayes import MultinomialNB\n",
    "from sklearn.ensemble import RandomForestClassifier\n",
    "from sklearn.metrics import accuracy_score \n",
    "from sklearn.metrics import classification_report"
   ]
  },
  {
   "cell_type": "code",
   "execution_count": 38,
   "id": "b2d8130b",
   "metadata": {},
   "outputs": [],
   "source": [
    "## Create the (B.O.W) bag of word model\n",
    "cv = CountVectorizer(max_features = 1500)\n",
    "X = cv.fit_transform(text_reviews).toarray()\n",
    "y= data['Sentiment']\n",
    "\n",
    "## Split the dataset into Training and Test set\n",
    "X_train, X_test, y_train, y_test = train_test_split(X, y , test_size=0.2, random_state = 0)"
   ]
  },
  {
   "cell_type": "markdown",
   "id": "68435256",
   "metadata": {},
   "source": [
    "# Modelling and Predicting"
   ]
  },
  {
   "cell_type": "code",
   "execution_count": 39,
   "id": "a6b40e0b",
   "metadata": {},
   "outputs": [],
   "source": [
    "## Logistic Regression model\n",
    "logreg = LogisticRegression()\n",
    "logreg.fit(X_train, y_train)\n",
    "Y_pred = logreg.predict(X_test)"
   ]
  },
  {
   "cell_type": "code",
   "execution_count": 40,
   "id": "fc7f5171",
   "metadata": {},
   "outputs": [
    {
     "name": "stdout",
     "output_type": "stream",
     "text": [
      "              precision    recall  f1-score   support\n",
      "\n",
      "           0       0.72      0.64      0.68       417\n",
      "           1       0.81      0.86      0.84       742\n",
      "\n",
      "    accuracy                           0.78      1159\n",
      "   macro avg       0.77      0.75      0.76      1159\n",
      "weighted avg       0.78      0.78      0.78      1159\n",
      "\n"
     ]
    }
   ],
   "source": [
    "print(classification_report(y_test, Y_pred))"
   ]
  },
  {
   "cell_type": "code",
   "execution_count": 41,
   "id": "cf421c14",
   "metadata": {},
   "outputs": [
    {
     "name": "stdout",
     "output_type": "stream",
     "text": [
      "[[267 150]\n",
      " [102 640]]\n"
     ]
    }
   ],
   "source": [
    "print(confusion_matrix(y_test, Y_pred))"
   ]
  },
  {
   "cell_type": "code",
   "execution_count": 42,
   "id": "ec06f7c7",
   "metadata": {},
   "outputs": [],
   "source": [
    "## Naives baye multinomial model\n",
    "clf = MultinomialNB()\n",
    "clf.fit(X_train, y_train)\n",
    "Y_pred = clf.predict(X_test)"
   ]
  },
  {
   "cell_type": "code",
   "execution_count": 43,
   "id": "f7faca43",
   "metadata": {},
   "outputs": [
    {
     "name": "stdout",
     "output_type": "stream",
     "text": [
      "              precision    recall  f1-score   support\n",
      "\n",
      "           0       0.71      0.70      0.70       417\n",
      "           1       0.83      0.84      0.83       742\n",
      "\n",
      "    accuracy                           0.79      1159\n",
      "   macro avg       0.77      0.77      0.77      1159\n",
      "weighted avg       0.79      0.79      0.79      1159\n",
      "\n"
     ]
    }
   ],
   "source": [
    "print(classification_report(y_test, Y_pred))"
   ]
  },
  {
   "cell_type": "code",
   "execution_count": 44,
   "id": "62e8b9a2",
   "metadata": {},
   "outputs": [
    {
     "name": "stdout",
     "output_type": "stream",
     "text": [
      "[[291 126]\n",
      " [120 622]]\n"
     ]
    }
   ],
   "source": [
    "print(confusion_matrix(y_test, Y_pred))"
   ]
  },
  {
   "cell_type": "code",
   "execution_count": 45,
   "id": "0b0a907f",
   "metadata": {},
   "outputs": [],
   "source": [
    "## Random Forest model\n",
    "random_forest = RandomForestClassifier(n_estimators=100)\n",
    "random_forest.fit(X_train, y_train)\n",
    "Y_pred = random_forest.predict(X_test)"
   ]
  },
  {
   "cell_type": "code",
   "execution_count": 46,
   "id": "a7e8925e",
   "metadata": {},
   "outputs": [
    {
     "name": "stdout",
     "output_type": "stream",
     "text": [
      "              precision    recall  f1-score   support\n",
      "\n",
      "           0       0.69      0.72      0.71       417\n",
      "           1       0.84      0.82      0.83       742\n",
      "\n",
      "    accuracy                           0.79      1159\n",
      "   macro avg       0.77      0.77      0.77      1159\n",
      "weighted avg       0.79      0.79      0.79      1159\n",
      "\n"
     ]
    }
   ],
   "source": [
    "print(classification_report(y_test, Y_pred))"
   ]
  },
  {
   "cell_type": "code",
   "execution_count": 47,
   "id": "719d9137",
   "metadata": {},
   "outputs": [
    {
     "name": "stdout",
     "output_type": "stream",
     "text": [
      "[[302 115]\n",
      " [134 608]]\n"
     ]
    }
   ],
   "source": [
    "print(confusion_matrix(y_test, Y_pred))"
   ]
  },
  {
   "cell_type": "markdown",
   "id": "40d16533",
   "metadata": {},
   "source": [
    "# conclusion"
   ]
  },
  {
   "cell_type": "markdown",
   "id": "7e28b424",
   "metadata": {},
   "source": [
    "Random forest and MultinomialNB produced the predictions with the\n",
    "highest accuracy, at 79%, while logistic regression scored 78%."
   ]
  },
  {
   "cell_type": "code",
   "execution_count": null,
   "id": "87491835",
   "metadata": {},
   "outputs": [],
   "source": []
  }
 ],
 "metadata": {
  "kernelspec": {
   "display_name": "Python 3",
   "language": "python",
   "name": "python3"
  },
  "language_info": {
   "codemirror_mode": {
    "name": "ipython",
    "version": 3
   },
   "file_extension": ".py",
   "mimetype": "text/x-python",
   "name": "python",
   "nbconvert_exporter": "python",
   "pygments_lexer": "ipython3",
   "version": "3.8.8"
  }
 },
 "nbformat": 4,
 "nbformat_minor": 5
}
